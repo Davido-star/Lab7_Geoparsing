{
  "nbformat": 4,
  "nbformat_minor": 0,
  "metadata": {
    "colab": {
      "name": "Lab7_geoparsing",
      "provenance": [],
      "authorship_tag": "ABX9TyMTDSTZ4IcKLiHSG8opfLco",
      "include_colab_link": true
    },
    "kernelspec": {
      "name": "python3",
      "display_name": "Python 3"
    },
    "language_info": {
      "name": "python"
    }
  },
  "cells": [
    {
      "cell_type": "markdown",
      "metadata": {
        "id": "view-in-github",
        "colab_type": "text"
      },
      "source": [
        "<a href=\"https://colab.research.google.com/github/Davido-star/Lab7_Geoparsing/blob/main/Lab7_geoparsing.ipynb\" target=\"_parent\"><img src=\"https://colab.research.google.com/assets/colab-badge.svg\" alt=\"Open In Colab\"/></a>"
      ]
    },
    {
      "cell_type": "code",
      "metadata": {
        "id": "-OR1TWXvUic5"
      },
      "source": [
        "\"\"\"\n",
        "David Smith\n",
        "Python 3 \n",
        "Lab7 : GeoParsing Tutorial on Mark Twains \"Innocents Abroad\" , Vairation using \"Antonia\" by George Sands bellow. \n",
        "\"\"\"\n",
        "\n"
      ],
      "execution_count": null,
      "outputs": []
    },
    {
      "cell_type": "code",
      "metadata": {
        "id": "aEdDbgDIWxqs"
      },
      "source": [
        "# Install packages as needed\n",
        "!pip install geopandas\n",
        "!pip install geotext\n",
        "!pip install numpy geotext\n",
        "!pip install matplotlib\n",
        "!pip install urllib #error\n",
        "!pip install geopy\n",
        "!pip install shapely\n",
        "!pip install descartes\n",
        "!pip install nltk\n",
        "\n",
        "# Importing all the libraries we'll use\n",
        "import geopandas as gpd\n",
        "import pandas as pd\n",
        "import nltk\n",
        "import numpy as np\n",
        "import matplotlib.pyplot as plt\n",
        "import urllib.request#new\n",
        "import descartes\n",
        "\n",
        "from urllib import request\n",
        "from geotext import GeoText\n",
        "from geopy.geocoders import Nominatim\n",
        "from geopy.exc import GeocoderTimedOut\n",
        "from shapely.geometry import Point, Polygon"
      ],
      "execution_count": null,
      "outputs": []
    },
    {
      "cell_type": "code",
      "metadata": {
        "colab": {
          "base_uri": "https://localhost:8080/"
        },
        "id": "0nAWc37pU4Nl",
        "outputId": "a629166e-81a0-4e2c-99d3-a02104d6aff7"
      },
      "source": [
        "# Check to see if geopandas is already loaded into your Colab environment: will return True or False\n",
        "import sys\n",
        "'geopandas' in sys.modules"
      ],
      "execution_count": 3,
      "outputs": [
        {
          "output_type": "execute_result",
          "data": {
            "text/plain": [
              "True"
            ]
          },
          "metadata": {
            "tags": []
          },
          "execution_count": 3
        }
      ]
    },
    {
      "cell_type": "code",
      "metadata": {
        "colab": {
          "base_uri": "https://localhost:8080/"
        },
        "id": "RubP0EBAWwL9",
        "outputId": "80395742-7ed6-4e52-fad0-46ffd4393f08"
      },
      "source": [
        "# access twains text, and decode it into utf8 \n",
        "url = 'http://www.gutenberg.org/files/3176/3176-0.txt'\n",
        "response = request.urlopen(url)\n",
        "raw = response.read().decode('utf8')\n",
        "print(f'{type(raw)}, \\n{len(raw)}, \\n{raw[:501]}')"
      ],
      "execution_count": 4,
      "outputs": [
        {
          "output_type": "stream",
          "text": [
            "<class 'str'>, \n",
            "1145406, \n",
            "﻿Project Gutenberg's The Innocents Abroad, by Mark Twain (Samuel Clemens)\r\n",
            "\r\n",
            "This eBook is for the use of anyone anywhere at no cost and with\r\n",
            "almost no restrictions whatsoever.  You may copy it, give it away or\r\n",
            "re-use it under the terms of the Project Gutenberg License included\r\n",
            "with this eBook or online at www.gutenberg.org\r\n",
            "\r\n",
            "\r\n",
            "Title: The Innocents Abroad\r\n",
            "\r\n",
            "Author: Mark Twain (Samuel Clemens)\r\n",
            "\r\n",
            "Release Date: August 18, 2006 [EBook #3176]\r\n",
            "Last Updated: February 23, 2018\r\n",
            "\r\n",
            "Language: English\n"
          ],
          "name": "stdout"
        }
      ]
    },
    {
      "cell_type": "code",
      "metadata": {
        "id": "R_GlqNqCXwTX"
      },
      "source": [
        "#bring in GeoText to find place names \n",
        "places = GeoText(raw)\n",
        "cities = list(places.cities)\n",
        "cities #Calling this shows my list of cities. You could also use print(cities)"
      ],
      "execution_count": null,
      "outputs": []
    },
    {
      "cell_type": "code",
      "metadata": {
        "id": "EaqwZi5eYkh1"
      },
      "source": [
        "geolocator = Nominatim(user_agent='smithdavid529@gmail.com', timeout=2) # requires your e-mail address to track usage. Timeout set for 2 seconds.\n",
        "\n",
        "lat_lon = []\n",
        "for city in cities:\n",
        "  try:\n",
        "    location = geolocator.geocode(city)\n",
        "    if location:\n",
        "      # If you want to see only lat/lon as they process you can include the following code here but I found it added a lot of time to the operation: print(location.latitude, location.longitude)\n",
        "      lat_lon.append(location)\n",
        "  except GeocoderTimedOut as e:\n",
        "    print(\"Error: geocode failed on input %s with message %s\">\n",
        "          (city, e))\n",
        "lat_lon"
      ],
      "execution_count": null,
      "outputs": []
    },
    {
      "cell_type": "code",
      "metadata": {
        "colab": {
          "base_uri": "https://localhost:8080/",
          "height": 266
        },
        "id": "kMrBr6yibC8n",
        "outputId": "99652b0b-09d7-41f8-c985-e30947295b33"
      },
      "source": [
        "#split into data frame \n",
        "df = pd.DataFrame(lat_lon, columns=['City Name', 'Coordinates'])\n",
        "df.head(7)"
      ],
      "execution_count": 7,
      "outputs": [
        {
          "output_type": "execute_result",
          "data": {
            "text/html": [
              "<div>\n",
              "<style scoped>\n",
              "    .dataframe tbody tr th:only-of-type {\n",
              "        vertical-align: middle;\n",
              "    }\n",
              "\n",
              "    .dataframe tbody tr th {\n",
              "        vertical-align: top;\n",
              "    }\n",
              "\n",
              "    .dataframe thead th {\n",
              "        text-align: right;\n",
              "    }\n",
              "</style>\n",
              "<table border=\"1\" class=\"dataframe\">\n",
              "  <thead>\n",
              "    <tr style=\"text-align: right;\">\n",
              "      <th></th>\n",
              "      <th>City Name</th>\n",
              "      <th>Coordinates</th>\n",
              "    </tr>\n",
              "  </thead>\n",
              "  <tbody>\n",
              "    <tr>\n",
              "      <th>0</th>\n",
              "      <td>Tanger طنجة, Tanger ⵜⵉⵏ ⵉⴳⴳⵉ طنجة, pachalik de...</td>\n",
              "      <td>(35.777103, -5.803792)</td>\n",
              "    </tr>\n",
              "    <tr>\n",
              "      <th>1</th>\n",
              "      <td>Paris, Île-de-France, France métropolitaine, F...</td>\n",
              "      <td>(48.8566969, 2.3514616)</td>\n",
              "    </tr>\n",
              "    <tr>\n",
              "      <th>2</th>\n",
              "      <td>Temple, Bell County, Texas, United States</td>\n",
              "      <td>(31.098207, -97.3427847)</td>\n",
              "    </tr>\n",
              "    <tr>\n",
              "      <th>3</th>\n",
              "      <td>Como, Lombardia, Italia</td>\n",
              "      <td>(45.939475900000005, 9.149410145408947)</td>\n",
              "    </tr>\n",
              "    <tr>\n",
              "      <th>4</th>\n",
              "      <td>Garibaldi, Região Geográfica Imediata de Bento...</td>\n",
              "      <td>(-29.2562253, -51.5269167)</td>\n",
              "    </tr>\n",
              "    <tr>\n",
              "      <th>5</th>\n",
              "      <td>Roma, Roma Capitale, Lazio, Italia</td>\n",
              "      <td>(41.8933203, 12.4829321)</td>\n",
              "    </tr>\n",
              "    <tr>\n",
              "      <th>6</th>\n",
              "      <td>Roman, Mesnils-sur-Iton, Bernay, Eure, Normand...</td>\n",
              "      <td>(48.836297599999995, 1.047626206618487)</td>\n",
              "    </tr>\n",
              "  </tbody>\n",
              "</table>\n",
              "</div>"
            ],
            "text/plain": [
              "                                           City Name                              Coordinates\n",
              "0  Tanger طنجة, Tanger ⵜⵉⵏ ⵉⴳⴳⵉ طنجة, pachalik de...                   (35.777103, -5.803792)\n",
              "1  Paris, Île-de-France, France métropolitaine, F...                  (48.8566969, 2.3514616)\n",
              "2          Temple, Bell County, Texas, United States                 (31.098207, -97.3427847)\n",
              "3                            Como, Lombardia, Italia  (45.939475900000005, 9.149410145408947)\n",
              "4  Garibaldi, Região Geográfica Imediata de Bento...               (-29.2562253, -51.5269167)\n",
              "5                 Roma, Roma Capitale, Lazio, Italia                 (41.8933203, 12.4829321)\n",
              "6  Roman, Mesnils-sur-Iton, Bernay, Eure, Normand...  (48.836297599999995, 1.047626206618487)"
            ]
          },
          "metadata": {
            "tags": []
          },
          "execution_count": 7
        }
      ]
    },
    {
      "cell_type": "code",
      "metadata": {
        "colab": {
          "base_uri": "https://localhost:8080/"
        },
        "id": "JVnQcSrkbmnn",
        "outputId": "b7d4bfbb-ccce-433e-aba7-cf1e2ade2a32"
      },
      "source": [
        "#convert lat_long to points for mapping \n",
        "geometry = [Point(x[1], x[0]) for x in df['Coordinates']]\n",
        "geometry[:7] #test look at results "
      ],
      "execution_count": 8,
      "outputs": [
        {
          "output_type": "execute_result",
          "data": {
            "text/plain": [
              "[<shapely.geometry.point.Point at 0x7fea3c286fd0>,\n",
              " <shapely.geometry.point.Point at 0x7fea3c302250>,\n",
              " <shapely.geometry.point.Point at 0x7fea3c2fe250>,\n",
              " <shapely.geometry.point.Point at 0x7fea3c2fef10>,\n",
              " <shapely.geometry.point.Point at 0x7fea3c286690>,\n",
              " <shapely.geometry.point.Point at 0x7fea3c2867d0>,\n",
              " <shapely.geometry.point.Point at 0x7fea3c286850>]"
            ]
          },
          "metadata": {
            "tags": []
          },
          "execution_count": 8
        }
      ]
    },
    {
      "cell_type": "code",
      "metadata": {
        "colab": {
          "base_uri": "https://localhost:8080/",
          "height": 258
        },
        "id": "AovtEZGIcUYO",
        "outputId": "dc048e28-b732-4728-b725-cadebe041852"
      },
      "source": [
        "# coordinate system we're using\n",
        "crs = {'init': 'epsg:4326'}\n",
        "\n",
        "# convert df to geo df\n",
        "geo_df = gpd.GeoDataFrame(df, crs=crs, geometry=geometry)\n",
        "geo_df.head()"
      ],
      "execution_count": 9,
      "outputs": [
        {
          "output_type": "stream",
          "text": [
            "/usr/local/lib/python3.7/dist-packages/pyproj/crs/crs.py:68: FutureWarning: '+init=<authority>:<code>' syntax is deprecated. '<authority>:<code>' is the preferred initialization method. When making the change, be mindful of axis order changes: https://pyproj4.github.io/pyproj/stable/gotchas.html#axis-order-changes-in-proj-6\n",
            "  return _prepare_from_string(\" \".join(pjargs))\n"
          ],
          "name": "stderr"
        },
        {
          "output_type": "execute_result",
          "data": {
            "text/html": [
              "<div>\n",
              "<style scoped>\n",
              "    .dataframe tbody tr th:only-of-type {\n",
              "        vertical-align: middle;\n",
              "    }\n",
              "\n",
              "    .dataframe tbody tr th {\n",
              "        vertical-align: top;\n",
              "    }\n",
              "\n",
              "    .dataframe thead th {\n",
              "        text-align: right;\n",
              "    }\n",
              "</style>\n",
              "<table border=\"1\" class=\"dataframe\">\n",
              "  <thead>\n",
              "    <tr style=\"text-align: right;\">\n",
              "      <th></th>\n",
              "      <th>City Name</th>\n",
              "      <th>Coordinates</th>\n",
              "      <th>geometry</th>\n",
              "    </tr>\n",
              "  </thead>\n",
              "  <tbody>\n",
              "    <tr>\n",
              "      <th>0</th>\n",
              "      <td>Tanger طنجة, Tanger ⵜⵉⵏ ⵉⴳⴳⵉ طنجة, pachalik de...</td>\n",
              "      <td>(35.777103, -5.803792)</td>\n",
              "      <td>POINT (-5.80379 35.77710)</td>\n",
              "    </tr>\n",
              "    <tr>\n",
              "      <th>1</th>\n",
              "      <td>Paris, Île-de-France, France métropolitaine, F...</td>\n",
              "      <td>(48.8566969, 2.3514616)</td>\n",
              "      <td>POINT (2.35146 48.85670)</td>\n",
              "    </tr>\n",
              "    <tr>\n",
              "      <th>2</th>\n",
              "      <td>Temple, Bell County, Texas, United States</td>\n",
              "      <td>(31.098207, -97.3427847)</td>\n",
              "      <td>POINT (-97.34278 31.09821)</td>\n",
              "    </tr>\n",
              "    <tr>\n",
              "      <th>3</th>\n",
              "      <td>Como, Lombardia, Italia</td>\n",
              "      <td>(45.939475900000005, 9.149410145408947)</td>\n",
              "      <td>POINT (9.14941 45.93948)</td>\n",
              "    </tr>\n",
              "    <tr>\n",
              "      <th>4</th>\n",
              "      <td>Garibaldi, Região Geográfica Imediata de Bento...</td>\n",
              "      <td>(-29.2562253, -51.5269167)</td>\n",
              "      <td>POINT (-51.52692 -29.25623)</td>\n",
              "    </tr>\n",
              "  </tbody>\n",
              "</table>\n",
              "</div>"
            ],
            "text/plain": [
              "                                           City Name  ...                     geometry\n",
              "0  Tanger طنجة, Tanger ⵜⵉⵏ ⵉⴳⴳⵉ طنجة, pachalik de...  ...    POINT (-5.80379 35.77710)\n",
              "1  Paris, Île-de-France, France métropolitaine, F...  ...     POINT (2.35146 48.85670)\n",
              "2          Temple, Bell County, Texas, United States  ...   POINT (-97.34278 31.09821)\n",
              "3                            Como, Lombardia, Italia  ...     POINT (9.14941 45.93948)\n",
              "4  Garibaldi, Região Geográfica Imediata de Bento...  ...  POINT (-51.52692 -29.25623)\n",
              "\n",
              "[5 rows x 3 columns]"
            ]
          },
          "metadata": {
            "tags": []
          },
          "execution_count": 9
        }
      ]
    },
    {
      "cell_type": "code",
      "metadata": {
        "colab": {
          "resources": {
            "http://localhost:8080/nbextensions/google.colab/files.js": {
              "data": "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",
              "ok": true,
              "headers": [
                [
                  "content-type",
                  "application/javascript"
                ]
              ],
              "status": 200,
              "status_text": ""
            }
          },
          "base_uri": "https://localhost:8080/",
          "height": 208
        },
        "id": "PnlPaox5cgQc",
        "outputId": "47327d47-8cc4-480e-aee8-70a8041f316d"
      },
      "source": [
        "# Upload local script to Colab - running this creates a \"choose file\" button to upload local files.\n",
        "# .shp file downloaded from https://hub.arcgis.com/datasets/a21fdb46d23e4ef896f31475217cbb08_1\n",
        "from google.colab import files\n",
        "uploaded = files.upload()"
      ],
      "execution_count": 10,
      "outputs": [
        {
          "output_type": "display_data",
          "data": {
            "text/html": [
              "\n",
              "     <input type=\"file\" id=\"files-5e3018cc-0864-4d04-91b8-f6fe8b8c42aa\" name=\"files[]\" multiple disabled\n",
              "        style=\"border:none\" />\n",
              "     <output id=\"result-5e3018cc-0864-4d04-91b8-f6fe8b8c42aa\">\n",
              "      Upload widget is only available when the cell has been executed in the\n",
              "      current browser session. Please rerun this cell to enable.\n",
              "      </output>\n",
              "      <script src=\"/nbextensions/google.colab/files.js\"></script> "
            ],
            "text/plain": [
              "<IPython.core.display.HTML object>"
            ]
          },
          "metadata": {
            "tags": []
          }
        },
        {
          "output_type": "stream",
          "text": [
            "Saving Countries_WGS84.cpg to Countries_WGS84.cpg\n",
            "Saving Countries_WGS84.dbf to Countries_WGS84.dbf\n",
            "Saving Countries_WGS84.prj to Countries_WGS84.prj\n",
            "Saving Countries_WGS84.shp to Countries_WGS84.shp\n",
            "Saving Countries_WGS84.shx to Countries_WGS84.shx\n"
          ],
          "name": "stdout"
        }
      ]
    },
    {
      "cell_type": "code",
      "metadata": {
        "id": "DNI1XLhOdT6e"
      },
      "source": [
        "# world map .shp file we down/uploaded\n",
        "countries_map = gpd.read_file('Countries_WGS84.shp')\n",
        "\n",
        "f, ax = plt.subplots(figsize=(16, 16))\n",
        "countries_map.plot(ax=ax, alpha=0.4, color='grey')\n",
        "geo_df['geometry'].plot(ax=ax, markersize = 30, color = 'r', marker = '^', alpha=.4)"
      ],
      "execution_count": null,
      "outputs": []
    },
    {
      "cell_type": "code",
      "metadata": {
        "id": "AuIp80uqd7Oc"
      },
      "source": [
        "#Import datavis libraries\n",
        "import matplotlib.pyplot as plt\n",
        "import seaborn as sns # used to set the style of the figures\n",
        "\n",
        "# Figures inline and set visualization style\n",
        "%matplotlib inline\n",
        "sns.set()\n",
        "\n",
        "# Create freq dist and plot\n",
        "freqdist1 = nltk.FreqDist(cities)\n",
        "freqdist1.plot(20) #running this w/out an argument plots all words! Here, we're specifying the top 20"
      ],
      "execution_count": null,
      "outputs": []
    },
    {
      "cell_type": "code",
      "metadata": {
        "id": "V-V5l7rGegtL"
      },
      "source": [
        "#import required libraries, packages, etc.\n",
        "import folium\n",
        "from folium import plugins\n",
        "import json"
      ],
      "execution_count": 13,
      "outputs": []
    },
    {
      "cell_type": "code",
      "metadata": {
        "id": "2Qxa5D5YenX9"
      },
      "source": [
        "# Converting geopandas dataframe to geojson so it can be plotted on a web map with folium.\n",
        "geo_df['geometry'].to_file(\"TwainCities.geojson\", driver='GeoJSON')\n",
        "\n",
        "# initialize the map at a global scale with a point midaway between U.S. and Europe as the center.\n",
        "TwainMap = folium.Map(location=[32.826919, -41.225228], tiles='Stamen Terrain', zoom_start=2)\n",
        "\n",
        "folium.GeoJson(\"TwainCities.geojson\").add_to(TwainMap)\n",
        "\n",
        "# Display your map   \n",
        "TwainMap"
      ],
      "execution_count": null,
      "outputs": []
    },
    {
      "cell_type": "code",
      "metadata": {
        "id": "mM9roDs8gSOS"
      },
      "source": [
        "\"\"\"\n",
        "My turn! \n",
        "David Smith \n",
        "Python 3 \n",
        "Scrape \"Antonia\" by George Sand \n",
        "\"\"\"\n"
      ],
      "execution_count": null,
      "outputs": []
    },
    {
      "cell_type": "code",
      "metadata": {
        "colab": {
          "base_uri": "https://localhost:8080/"
        },
        "id": "oKvsV19UgjL5",
        "outputId": "ca1bdb50-be95-41a1-c6bc-13a91f2bb439"
      },
      "source": [
        "# access sands text, and decode it into utf8 \n",
        "url = 'https://www.gutenberg.org/files/65170/65170-0.txt'\n",
        "response = request.urlopen(url)\n",
        "raw = response.read().decode('utf8')\n",
        "print(f'{type(raw)}, \\n{len(raw)}, \\n{raw[:800]}')"
      ],
      "execution_count": 16,
      "outputs": [
        {
          "output_type": "stream",
          "text": [
            "<class 'str'>, \n",
            "510877, \n",
            "﻿The Project Gutenberg eBook of Antonia, by George Sand\r\n",
            "\r\n",
            "This eBook is for the use of anyone anywhere in the United States and\r\n",
            "most other parts of the world at no cost and with almost no restrictions\r\n",
            "whatsoever. You may copy it, give it away or re-use it under the terms\r\n",
            "of the Project Gutenberg License included with this eBook or online at\r\n",
            "www.gutenberg.org. If you are not located in the United States, you\r\n",
            "will have to check the laws of the country where you are located before\r\n",
            "using this eBook.\r\n",
            "\r\n",
            "Title: Antonia\r\n",
            "       The masterpieces of George Sand. Vol. 13\r\n",
            "\r\n",
            "Author: George Sand\r\n",
            "\r\n",
            "Translator: George Burnham Yves\r\n",
            "\r\n",
            "Release Date: April 26, 2021 [eBook #65170]\r\n",
            "\r\n",
            "Language: English\r\n",
            "\r\n",
            "Character set encoding: UTF-8\r\n",
            "\r\n",
            "Produced by: Dagny and Laura Natal Rodrigues at Free Literature\n"
          ],
          "name": "stdout"
        }
      ]
    },
    {
      "cell_type": "code",
      "metadata": {
        "colab": {
          "base_uri": "https://localhost:8080/"
        },
        "id": "wKDCQfJ5g0GH",
        "outputId": "2dfb809b-8c17-40b5-dd19-538e0f341916"
      },
      "source": [
        "#extract places and city names \n",
        "places = GeoText(raw)\n",
        "cities = list(places.cities)\n",
        "\n",
        "#get the place names connected to coordinates with Nominatim \n",
        "geolocator = Nominatim(user_agent='smithdavid529@gmail.com', timeout=2) # requires your e-mail address to track usage. Timeout set for 2 seconds.\n",
        "\n",
        "lat_lon = []\n",
        "for city in cities:\n",
        "  try:\n",
        "    location = geolocator.geocode(city)\n",
        "    if location:\n",
        "      # If you want to see only lat/lon as they process you can include the following code here but I found it added a lot of time to the operation: print(location.latitude, location.longitude)\n",
        "      lat_lon.append(location)\n",
        "  except GeocoderTimedOut as e:\n",
        "    print(\"Error: geocode failed on input %s with message %s\">\n",
        "          (city, e))\n",
        "lat_lon\n"
      ],
      "execution_count": 18,
      "outputs": [
        {
          "output_type": "execute_result",
          "data": {
            "text/plain": [
              "[Location(Paris, Île-de-France, France métropolitaine, France, (48.8566969, 2.3514616, 0.0)),\n",
              " Location(Paris, Île-de-France, France métropolitaine, France, (48.8566969, 2.3514616, 0.0)),\n",
              " Location(Sèvres, Boulogne-Billancourt, Hauts-de-Seine, Île-de-France, France métropolitaine, 92310, France, (48.8247407, 2.2127083, 0.0)),\n",
              " Location(Paris, Île-de-France, France métropolitaine, France, (48.8566969, 2.3514616, 0.0)),\n",
              " Location(Norman, Cleveland County, Oklahoma, United States, (35.2225717, -97.4394816, 0.0)),\n",
              " Location(Sèvres, Boulogne-Billancourt, Hauts-de-Seine, Île-de-France, France métropolitaine, 92310, France, (48.8247407, 2.2127083, 0.0)),\n",
              " Location(Of, Trabzon, Karadeniz Bölgesi, 61830, Türkiye, (40.881735899999995, 40.27544376928809, 0.0)),\n",
              " Location(Paris, Île-de-France, France métropolitaine, France, (48.8566969, 2.3514616, 0.0)),\n",
              " Location(Paris, Île-de-France, France métropolitaine, France, (48.8566969, 2.3514616, 0.0)),\n",
              " Location(Sèvres, Boulogne-Billancourt, Hauts-de-Seine, Île-de-France, France métropolitaine, 92310, France, (48.8247407, 2.2127083, 0.0)),\n",
              " Location(Sèvres, Boulogne-Billancourt, Hauts-de-Seine, Île-de-France, France métropolitaine, 92310, France, (48.8247407, 2.2127083, 0.0)),\n",
              " Location(Of, Trabzon, Karadeniz Bölgesi, 61830, Türkiye, (40.881735899999995, 40.27544376928809, 0.0)),\n",
              " Location(Paris, Île-de-France, France métropolitaine, France, (48.8566969, 2.3514616, 0.0)),\n",
              " Location(Sèvres, Boulogne-Billancourt, Hauts-de-Seine, Île-de-France, France métropolitaine, 92310, France, (48.8247407, 2.2127083, 0.0)),\n",
              " Location(Of, Trabzon, Karadeniz Bölgesi, 61830, Türkiye, (40.881735899999995, 40.27544376928809, 0.0)),\n",
              " Location(Sèvres, Boulogne-Billancourt, Hauts-de-Seine, Île-de-France, France métropolitaine, 92310, France, (48.8247407, 2.2127083, 0.0)),\n",
              " Location(Sèvres, Boulogne-Billancourt, Hauts-de-Seine, Île-de-France, France métropolitaine, 92310, France, (48.8247407, 2.2127083, 0.0)),\n",
              " Location(Sèvres, Boulogne-Billancourt, Hauts-de-Seine, Île-de-France, France métropolitaine, 92310, France, (48.8247407, 2.2127083, 0.0)),\n",
              " Location(Paris, Île-de-France, France métropolitaine, France, (48.8566969, 2.3514616, 0.0)),\n",
              " Location(Paris, Île-de-France, France métropolitaine, France, (48.8566969, 2.3514616, 0.0)),\n",
              " Location(Paris, Île-de-France, France métropolitaine, France, (48.8566969, 2.3514616, 0.0)),\n",
              " Location(Sèvres, Boulogne-Billancourt, Hauts-de-Seine, Île-de-France, France métropolitaine, 92310, France, (48.8247407, 2.2127083, 0.0)),\n",
              " Location(Of, Trabzon, Karadeniz Bölgesi, 61830, Türkiye, (40.881735899999995, 40.27544376928809, 0.0)),\n",
              " Location(Sèvres, Boulogne-Billancourt, Hauts-de-Seine, Île-de-France, France métropolitaine, 92310, France, (48.8247407, 2.2127083, 0.0)),\n",
              " Location(Paris, Île-de-France, France métropolitaine, France, (48.8566969, 2.3514616, 0.0)),\n",
              " Location(Providence, Providence County, Rhode Island, United States, (41.8239891, -71.4128343, 0.0)),\n",
              " Location(Rouen, Seine-Maritime, Normandie, France métropolitaine, France, (49.4404591, 1.0939658, 0.0)),\n",
              " Location(Of, Trabzon, Karadeniz Bölgesi, 61830, Türkiye, (40.881735899999995, 40.27544376928809, 0.0)),\n",
              " Location(Sèvres, Boulogne-Billancourt, Hauts-de-Seine, Île-de-France, France métropolitaine, 92310, France, (48.8247407, 2.2127083, 0.0)),\n",
              " Location(Sèvres, Boulogne-Billancourt, Hauts-de-Seine, Île-de-France, France métropolitaine, 92310, France, (48.8247407, 2.2127083, 0.0)),\n",
              " Location(Sèvres, Boulogne-Billancourt, Hauts-de-Seine, Île-de-France, France métropolitaine, 92310, France, (48.8247407, 2.2127083, 0.0)),\n",
              " Location(Of, Trabzon, Karadeniz Bölgesi, 61830, Türkiye, (40.881735899999995, 40.27544376928809, 0.0)),\n",
              " Location(Dover, Kent, South East England, England, United Kingdom, (51.1251275, 1.3134228, 0.0)),\n",
              " Location(Of, Trabzon, Karadeniz Bölgesi, 61830, Türkiye, (40.881735899999995, 40.27544376928809, 0.0)),\n",
              " Location(Washington, District of Columbia, United States, (38.8950368, -77.0365427, 0.0)),\n",
              " Location(Lafayette, Lafayette Parish, Louisiana, United States, (30.2240897, -92.0198427, 0.0)),\n",
              " Location(Of, Trabzon, Karadeniz Bölgesi, 61830, Türkiye, (40.881735899999995, 40.27544376928809, 0.0)),\n",
              " Location(Of, Trabzon, Karadeniz Bölgesi, 61830, Türkiye, (40.881735899999995, 40.27544376928809, 0.0)),\n",
              " Location(Paris, Île-de-France, France métropolitaine, France, (48.8566969, 2.3514616, 0.0)),\n",
              " Location(Much, Rhein-Sieg-Kreis, Nordrhein-Westfalen, 53804, Deutschland, (50.9044492, 7.4017528, 0.0)),\n",
              " Location(Providence, Providence County, Rhode Island, United States, (41.8239891, -71.4128343, 0.0)),\n",
              " Location(Providence, Providence County, Rhode Island, United States, (41.8239891, -71.4128343, 0.0)),\n",
              " Location(Providence, Providence County, Rhode Island, United States, (41.8239891, -71.4128343, 0.0)),\n",
              " Location(Paris, Île-de-France, France métropolitaine, France, (48.8566969, 2.3514616, 0.0)),\n",
              " Location(Paris, Île-de-France, France métropolitaine, France, (48.8566969, 2.3514616, 0.0)),\n",
              " Location(Norman, Cleveland County, Oklahoma, United States, (35.2225717, -97.4394816, 0.0)),\n",
              " Location(Sèvres, Boulogne-Billancourt, Hauts-de-Seine, Île-de-France, France métropolitaine, 92310, France, (48.8247407, 2.2127083, 0.0)),\n",
              " Location(Paris, Île-de-France, France métropolitaine, France, (48.8566969, 2.3514616, 0.0)),\n",
              " Location(Surprise, Maricopa County, Arizona, United States, (33.6292271, -112.3680189, 0.0)),\n",
              " Location(Sèvres, Boulogne-Billancourt, Hauts-de-Seine, Île-de-France, France métropolitaine, 92310, France, (48.8247407, 2.2127083, 0.0)),\n",
              " Location(Paris, Île-de-France, France métropolitaine, France, (48.8566969, 2.3514616, 0.0)),\n",
              " Location(Paris, Île-de-France, France métropolitaine, France, (48.8566969, 2.3514616, 0.0)),\n",
              " Location(Paris, Île-de-France, France métropolitaine, France, (48.8566969, 2.3514616, 0.0)),\n",
              " Location(Paris, Île-de-France, France métropolitaine, France, (48.8566969, 2.3514616, 0.0)),\n",
              " Location(Sèvres, Boulogne-Billancourt, Hauts-de-Seine, Île-de-France, France métropolitaine, 92310, France, (48.8247407, 2.2127083, 0.0)),\n",
              " Location(Sèvres, Boulogne-Billancourt, Hauts-de-Seine, Île-de-France, France métropolitaine, 92310, France, (48.8247407, 2.2127083, 0.0)),\n",
              " Location(Madrid, Área metropolitana de Madrid y Corredor del Henares, Comunidad de Madrid, 28001, España, (40.4167047, -3.7035825, 0.0)),\n",
              " Location(Of, Trabzon, Karadeniz Bölgesi, 61830, Türkiye, (40.881735899999995, 40.27544376928809, 0.0)),\n",
              " Location(Sèvres, Boulogne-Billancourt, Hauts-de-Seine, Île-de-France, France métropolitaine, 92310, France, (48.8247407, 2.2127083, 0.0)),\n",
              " Location(Sèvres, Boulogne-Billancourt, Hauts-de-Seine, Île-de-France, France métropolitaine, 92310, France, (48.8247407, 2.2127083, 0.0)),\n",
              " Location(Sèvres, Boulogne-Billancourt, Hauts-de-Seine, Île-de-France, France métropolitaine, 92310, France, (48.8247407, 2.2127083, 0.0)),\n",
              " Location(Nanterre, Arrondissement de Nanterre, Hauts-de-Seine, Île-de-France, France métropolitaine, 92000, France, (48.8924273, 2.2071267, 0.0)),\n",
              " Location(Nanterre, Arrondissement de Nanterre, Hauts-de-Seine, Île-de-France, France métropolitaine, 92000, France, (48.8924273, 2.2071267, 0.0)),\n",
              " Location(Vichy, Allier, Auvergne-Rhône-Alpes, France métropolitaine, 03200, France, (46.1239268, 3.4203712, 0.0)),\n",
              " Location(Nanterre, Arrondissement de Nanterre, Hauts-de-Seine, Île-de-France, France métropolitaine, 92000, France, (48.8924273, 2.2071267, 0.0)),\n",
              " Location(Nanterre, Arrondissement de Nanterre, Hauts-de-Seine, Île-de-France, France métropolitaine, 92000, France, (48.8924273, 2.2071267, 0.0)),\n",
              " Location(Paris, Île-de-France, France métropolitaine, France, (48.8566969, 2.3514616, 0.0)),\n",
              " Location(Paris, Île-de-France, France métropolitaine, France, (48.8566969, 2.3514616, 0.0)),\n",
              " Location(Sèvres, Boulogne-Billancourt, Hauts-de-Seine, Île-de-France, France métropolitaine, 92310, France, (48.8247407, 2.2127083, 0.0)),\n",
              " Location(Chantilly, Senlis, Oise, Hauts-de-France, France métropolitaine, 60500, France, (49.1931736, 2.4636686, 0.0)),\n",
              " Location(Sèvres, Boulogne-Billancourt, Hauts-de-Seine, Île-de-France, France métropolitaine, 92310, France, (48.8247407, 2.2127083, 0.0)),\n",
              " Location(Nanterre, Arrondissement de Nanterre, Hauts-de-Seine, Île-de-France, France métropolitaine, 92000, France, (48.8924273, 2.2071267, 0.0)),\n",
              " Location(Sèvres, Boulogne-Billancourt, Hauts-de-Seine, Île-de-France, France métropolitaine, 92310, France, (48.8247407, 2.2127083, 0.0)),\n",
              " Location(Sèvres, Boulogne-Billancourt, Hauts-de-Seine, Île-de-France, France métropolitaine, 92310, France, (48.8247407, 2.2127083, 0.0)),\n",
              " Location(Sèvres, Boulogne-Billancourt, Hauts-de-Seine, Île-de-France, France métropolitaine, 92310, France, (48.8247407, 2.2127083, 0.0)),\n",
              " Location(Sèvres, Boulogne-Billancourt, Hauts-de-Seine, Île-de-France, France métropolitaine, 92310, France, (48.8247407, 2.2127083, 0.0)),\n",
              " Location(Paris, Île-de-France, France métropolitaine, France, (48.8566969, 2.3514616, 0.0)),\n",
              " Location(Sèvres, Boulogne-Billancourt, Hauts-de-Seine, Île-de-France, France métropolitaine, 92310, France, (48.8247407, 2.2127083, 0.0)),\n",
              " Location(Sèvres, Boulogne-Billancourt, Hauts-de-Seine, Île-de-France, France métropolitaine, 92310, France, (48.8247407, 2.2127083, 0.0)),\n",
              " Location(Paris, Île-de-France, France métropolitaine, France, (48.8566969, 2.3514616, 0.0)),\n",
              " Location(Sèvres, Boulogne-Billancourt, Hauts-de-Seine, Île-de-France, France métropolitaine, 92310, France, (48.8247407, 2.2127083, 0.0)),\n",
              " Location(Paris, Île-de-France, France métropolitaine, France, (48.8566969, 2.3514616, 0.0)),\n",
              " Location(Sèvres, Boulogne-Billancourt, Hauts-de-Seine, Île-de-France, France métropolitaine, 92310, France, (48.8247407, 2.2127083, 0.0)),\n",
              " Location(Sèvres, Boulogne-Billancourt, Hauts-de-Seine, Île-de-France, France métropolitaine, 92310, France, (48.8247407, 2.2127083, 0.0)),\n",
              " Location(Sèvres, Boulogne-Billancourt, Hauts-de-Seine, Île-de-France, France métropolitaine, 92310, France, (48.8247407, 2.2127083, 0.0)),\n",
              " Location(Norman, Cleveland County, Oklahoma, United States, (35.2225717, -97.4394816, 0.0)),\n",
              " Location(Paris, Île-de-France, France métropolitaine, France, (48.8566969, 2.3514616, 0.0)),\n",
              " Location(Sèvres, Boulogne-Billancourt, Hauts-de-Seine, Île-de-France, France métropolitaine, 92310, France, (48.8247407, 2.2127083, 0.0)),\n",
              " Location(Paris, Île-de-France, France métropolitaine, France, (48.8566969, 2.3514616, 0.0)),\n",
              " Location(Sèvres, Boulogne-Billancourt, Hauts-de-Seine, Île-de-France, France métropolitaine, 92310, France, (48.8247407, 2.2127083, 0.0)),\n",
              " Location(Sèvres, Boulogne-Billancourt, Hauts-de-Seine, Île-de-France, France métropolitaine, 92310, France, (48.8247407, 2.2127083, 0.0)),\n",
              " Location(Sèvres, Boulogne-Billancourt, Hauts-de-Seine, Île-de-France, France métropolitaine, 92310, France, (48.8247407, 2.2127083, 0.0)),\n",
              " Location(Sèvres, Boulogne-Billancourt, Hauts-de-Seine, Île-de-France, France métropolitaine, 92310, France, (48.8247407, 2.2127083, 0.0)),\n",
              " Location(Of, Trabzon, Karadeniz Bölgesi, 61830, Türkiye, (40.881735899999995, 40.27544376928809, 0.0)),\n",
              " Location(Mission, Hidalgo County, Texas, United States, (26.2159066, -98.3252932, 0.0)),\n",
              " Location(Salt Lake County, Utah, United States, (40.6632297, -111.9103124, 0.0)),\n",
              " Location(Most, okres Most, Ústecký kraj, Severozápad, Česko, (50.5032737, 13.636112, 0.0))]"
            ]
          },
          "metadata": {
            "tags": []
          },
          "execution_count": 18
        }
      ]
    },
    {
      "cell_type": "code",
      "metadata": {
        "colab": {
          "base_uri": "https://localhost:8080/",
          "height": 266
        },
        "id": "u2gCufZ1g6UD",
        "outputId": "fa656224-c116-476e-9b0b-e8bfd6b40775"
      },
      "source": [
        "#put city names and coordinates into a dateframe \n",
        "df = pd.DataFrame(lat_lon, columns=['City Name', 'Coordinates'])\n",
        "df.head(7)"
      ],
      "execution_count": 19,
      "outputs": [
        {
          "output_type": "execute_result",
          "data": {
            "text/html": [
              "<div>\n",
              "<style scoped>\n",
              "    .dataframe tbody tr th:only-of-type {\n",
              "        vertical-align: middle;\n",
              "    }\n",
              "\n",
              "    .dataframe tbody tr th {\n",
              "        vertical-align: top;\n",
              "    }\n",
              "\n",
              "    .dataframe thead th {\n",
              "        text-align: right;\n",
              "    }\n",
              "</style>\n",
              "<table border=\"1\" class=\"dataframe\">\n",
              "  <thead>\n",
              "    <tr style=\"text-align: right;\">\n",
              "      <th></th>\n",
              "      <th>City Name</th>\n",
              "      <th>Coordinates</th>\n",
              "    </tr>\n",
              "  </thead>\n",
              "  <tbody>\n",
              "    <tr>\n",
              "      <th>0</th>\n",
              "      <td>Paris, Île-de-France, France métropolitaine, F...</td>\n",
              "      <td>(48.8566969, 2.3514616)</td>\n",
              "    </tr>\n",
              "    <tr>\n",
              "      <th>1</th>\n",
              "      <td>Paris, Île-de-France, France métropolitaine, F...</td>\n",
              "      <td>(48.8566969, 2.3514616)</td>\n",
              "    </tr>\n",
              "    <tr>\n",
              "      <th>2</th>\n",
              "      <td>Sèvres, Boulogne-Billancourt, Hauts-de-Seine, ...</td>\n",
              "      <td>(48.8247407, 2.2127083)</td>\n",
              "    </tr>\n",
              "    <tr>\n",
              "      <th>3</th>\n",
              "      <td>Paris, Île-de-France, France métropolitaine, F...</td>\n",
              "      <td>(48.8566969, 2.3514616)</td>\n",
              "    </tr>\n",
              "    <tr>\n",
              "      <th>4</th>\n",
              "      <td>Norman, Cleveland County, Oklahoma, United States</td>\n",
              "      <td>(35.2225717, -97.4394816)</td>\n",
              "    </tr>\n",
              "    <tr>\n",
              "      <th>5</th>\n",
              "      <td>Sèvres, Boulogne-Billancourt, Hauts-de-Seine, ...</td>\n",
              "      <td>(48.8247407, 2.2127083)</td>\n",
              "    </tr>\n",
              "    <tr>\n",
              "      <th>6</th>\n",
              "      <td>Of, Trabzon, Karadeniz Bölgesi, 61830, Türkiye</td>\n",
              "      <td>(40.881735899999995, 40.27544376928809)</td>\n",
              "    </tr>\n",
              "  </tbody>\n",
              "</table>\n",
              "</div>"
            ],
            "text/plain": [
              "                                           City Name                              Coordinates\n",
              "0  Paris, Île-de-France, France métropolitaine, F...                  (48.8566969, 2.3514616)\n",
              "1  Paris, Île-de-France, France métropolitaine, F...                  (48.8566969, 2.3514616)\n",
              "2  Sèvres, Boulogne-Billancourt, Hauts-de-Seine, ...                  (48.8247407, 2.2127083)\n",
              "3  Paris, Île-de-France, France métropolitaine, F...                  (48.8566969, 2.3514616)\n",
              "4  Norman, Cleveland County, Oklahoma, United States                (35.2225717, -97.4394816)\n",
              "5  Sèvres, Boulogne-Billancourt, Hauts-de-Seine, ...                  (48.8247407, 2.2127083)\n",
              "6     Of, Trabzon, Karadeniz Bölgesi, 61830, Türkiye  (40.881735899999995, 40.27544376928809)"
            ]
          },
          "metadata": {
            "tags": []
          },
          "execution_count": 19
        }
      ]
    },
    {
      "cell_type": "code",
      "metadata": {
        "colab": {
          "base_uri": "https://localhost:8080/",
          "height": 258
        },
        "id": "TRFSdTcBirUZ",
        "outputId": "0feaab28-b325-4b6d-ac3a-ccc9e306b1fe"
      },
      "source": [
        "# prep coordinates for plotting \n",
        "geometry = [Point(x[1], x[0]) for x in df['Coordinates']]\n",
        "\n",
        "#appened the geometry, for each location \n",
        "\n",
        "# coordinate system we're using\n",
        "crs = {'init': 'epsg:4326'}\n",
        "\n",
        "# convert df to geo df\n",
        "geo_df = gpd.GeoDataFrame(df, crs=crs, geometry=geometry)\n",
        "geo_df.head()"
      ],
      "execution_count": 22,
      "outputs": [
        {
          "output_type": "stream",
          "text": [
            "/usr/local/lib/python3.7/dist-packages/pyproj/crs/crs.py:68: FutureWarning: '+init=<authority>:<code>' syntax is deprecated. '<authority>:<code>' is the preferred initialization method. When making the change, be mindful of axis order changes: https://pyproj4.github.io/pyproj/stable/gotchas.html#axis-order-changes-in-proj-6\n",
            "  return _prepare_from_string(\" \".join(pjargs))\n"
          ],
          "name": "stderr"
        },
        {
          "output_type": "execute_result",
          "data": {
            "text/html": [
              "<div>\n",
              "<style scoped>\n",
              "    .dataframe tbody tr th:only-of-type {\n",
              "        vertical-align: middle;\n",
              "    }\n",
              "\n",
              "    .dataframe tbody tr th {\n",
              "        vertical-align: top;\n",
              "    }\n",
              "\n",
              "    .dataframe thead th {\n",
              "        text-align: right;\n",
              "    }\n",
              "</style>\n",
              "<table border=\"1\" class=\"dataframe\">\n",
              "  <thead>\n",
              "    <tr style=\"text-align: right;\">\n",
              "      <th></th>\n",
              "      <th>City Name</th>\n",
              "      <th>Coordinates</th>\n",
              "      <th>geometry</th>\n",
              "    </tr>\n",
              "  </thead>\n",
              "  <tbody>\n",
              "    <tr>\n",
              "      <th>0</th>\n",
              "      <td>Paris, Île-de-France, France métropolitaine, F...</td>\n",
              "      <td>(48.8566969, 2.3514616)</td>\n",
              "      <td>POINT (2.35146 48.85670)</td>\n",
              "    </tr>\n",
              "    <tr>\n",
              "      <th>1</th>\n",
              "      <td>Paris, Île-de-France, France métropolitaine, F...</td>\n",
              "      <td>(48.8566969, 2.3514616)</td>\n",
              "      <td>POINT (2.35146 48.85670)</td>\n",
              "    </tr>\n",
              "    <tr>\n",
              "      <th>2</th>\n",
              "      <td>Sèvres, Boulogne-Billancourt, Hauts-de-Seine, ...</td>\n",
              "      <td>(48.8247407, 2.2127083)</td>\n",
              "      <td>POINT (2.21271 48.82474)</td>\n",
              "    </tr>\n",
              "    <tr>\n",
              "      <th>3</th>\n",
              "      <td>Paris, Île-de-France, France métropolitaine, F...</td>\n",
              "      <td>(48.8566969, 2.3514616)</td>\n",
              "      <td>POINT (2.35146 48.85670)</td>\n",
              "    </tr>\n",
              "    <tr>\n",
              "      <th>4</th>\n",
              "      <td>Norman, Cleveland County, Oklahoma, United States</td>\n",
              "      <td>(35.2225717, -97.4394816)</td>\n",
              "      <td>POINT (-97.43948 35.22257)</td>\n",
              "    </tr>\n",
              "  </tbody>\n",
              "</table>\n",
              "</div>"
            ],
            "text/plain": [
              "                                           City Name  ...                    geometry\n",
              "0  Paris, Île-de-France, France métropolitaine, F...  ...    POINT (2.35146 48.85670)\n",
              "1  Paris, Île-de-France, France métropolitaine, F...  ...    POINT (2.35146 48.85670)\n",
              "2  Sèvres, Boulogne-Billancourt, Hauts-de-Seine, ...  ...    POINT (2.21271 48.82474)\n",
              "3  Paris, Île-de-France, France métropolitaine, F...  ...    POINT (2.35146 48.85670)\n",
              "4  Norman, Cleveland County, Oklahoma, United States  ...  POINT (-97.43948 35.22257)\n",
              "\n",
              "[5 rows x 3 columns]"
            ]
          },
          "metadata": {
            "tags": []
          },
          "execution_count": 22
        }
      ]
    },
    {
      "cell_type": "code",
      "metadata": {
        "id": "vgIzMmTTjN_3"
      },
      "source": [
        "# world map .shp file we down/uploaded\n",
        "countries_map = gpd.read_file('Countries_WGS84.shp')\n",
        "\n",
        "f, ax = plt.subplots(figsize=(16, 16))\n",
        "countries_map.plot(ax=ax, alpha=0.4, color='grey')\n",
        "geo_df['geometry'].plot(ax=ax, markersize = 30, color = 'r', marker = '^', alpha=.4)"
      ],
      "execution_count": null,
      "outputs": []
    },
    {
      "cell_type": "code",
      "metadata": {
        "id": "ODHpjOgEjWLt"
      },
      "source": [
        "#Import datavis libraries\n",
        "import matplotlib.pyplot as plt\n",
        "import seaborn as sns # used to set the style of the figures\n",
        "\n",
        "# Figures inline and set visualization style\n",
        "%matplotlib inline\n",
        "sns.set()\n",
        "\n",
        "# Create freq dist and plot\n",
        "freqdist1 = nltk.FreqDist(cities)\n",
        "freqdist1.plot(20) #running this w/out an argument plots all words! Here, we're specifying the top 20"
      ],
      "execution_count": null,
      "outputs": []
    },
    {
      "cell_type": "code",
      "metadata": {
        "id": "oZBCNqm_jqkt"
      },
      "source": [
        "# Converting geopandas dataframe to geojson so it can be plotted on a web map with folium.\n",
        "geo_df['geometry'].to_file(\"SandCities.geojson\", driver='GeoJSON')\n",
        "\n",
        "# initialize the map at a global scale with a point midaway between U.S. and Europe as the center.\n",
        "SandMap = folium.Map(location=[32.826919, -41.225228], tiles='Stamen Terrain', zoom_start=2)\n",
        "\n",
        "folium.GeoJson(\"SandCities.geojson\").add_to(SandMap)\n",
        "\n",
        "# Display your map   \n",
        "SandMap"
      ],
      "execution_count": null,
      "outputs": []
    }
  ]
}