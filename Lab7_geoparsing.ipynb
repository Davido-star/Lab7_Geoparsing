{
  "nbformat": 4,
  "nbformat_minor": 0,
  "metadata": {
    "colab": {
      "name": "Lab7_geoparsing",
      "provenance": [],
      "authorship_tag": "ABX9TyMTDSTZ4IcKLiHSG8opfLco",
      "include_colab_link": true
    },
    "kernelspec": {
      "name": "python3",
      "display_name": "Python 3"
    },
    "language_info": {
      "name": "python"
    }
  },
  "cells": [
    {
      "cell_type": "markdown",
      "metadata": {
        "id": "view-in-github",
        "colab_type": "text"
      },
      "source": [
        "<a href=\"https://colab.research.google.com/github/Davido-star/Lab7_Geoparsing/blob/main/Lab7_geoparsing.ipynb\" target=\"_parent\"><img src=\"https://colab.research.google.com/assets/colab-badge.svg\" alt=\"Open In Colab\"/></a>"
      ]
    },
    {
      "cell_type": "code",
      "metadata": {
        "id": "-OR1TWXvUic5"
      },
      "source": [
        "\"\"\"\n",
        "David Smith\n",
        "Python 3 \n",
        "Lab7 : GeoParsing Tutorial on Mark Twains \"Innocents Abroad\" , Vairation using \"Antonia\" by George Sands bellow. \n",
        "\"\"\"\n",
        "\n"
      ],
      "execution_count": null,
      "outputs": []
    },
    {
      "cell_type": "code",
      "metadata": {
        "id": "aEdDbgDIWxqs"
      },
      "source": [
        "# Install packages as needed\n",
        "!pip install geopandas\n",
        "!pip install geotext\n",
        "!pip install numpy geotext\n",
        "!pip install matplotlib\n",
        "!pip install urllib #error\n",
        "!pip install geopy\n",
        "!pip install shapely\n",
        "!pip install descartes\n",
        "!pip install nltk\n",
        "\n",
        "# Importing all the libraries we'll use\n",
        "import geopandas as gpd\n",
        "import pandas as pd\n",
        "import nltk\n",
        "import numpy as np\n",
        "import matplotlib.pyplot as plt\n",
        "import urllib.request#new\n",
        "import descartes\n",
        "\n",
        "from urllib import request\n",
        "from geotext import GeoText\n",
        "from geopy.geocoders import Nominatim\n",
        "from geopy.exc import GeocoderTimedOut\n",
        "from shapely.geometry import Point, Polygon"
      ],
      "execution_count": null,
      "outputs": []
    },
    {
      "cell_type": "code",
      "metadata": {
        "colab": {
          "base_uri": "https://localhost:8080/"
        },
        "id": "0nAWc37pU4Nl",
        "outputId": "a629166e-81a0-4e2c-99d3-a02104d6aff7"
      },
      "source": [
        "# Check to see if geopandas is already loaded into your Colab environment: will return True or False\n",
        "import sys\n",
        "'geopandas' in sys.modules"
      ],
      "execution_count": 3,
      "outputs": [
        {
          "output_type": "execute_result",
          "data": {
            "text/plain": [
              "True"
            ]
          },
          "metadata": {
            "tags": []
          },
          "execution_count": 3
        }
      ]
    },
    {
      "cell_type": "code",
      "metadata": {
        "colab": {
          "base_uri": "https://localhost:8080/"
        },
        "id": "RubP0EBAWwL9",
        "outputId": "80395742-7ed6-4e52-fad0-46ffd4393f08"
      },
      "source": [
        "# access twains text, and decode it into utf8 \n",
        "url = 'http://www.gutenberg.org/files/3176/3176-0.txt'\n",
        "response = request.urlopen(url)\n",
        "raw = response.read().decode('utf8')\n",
        "print(f'{type(raw)}, \\n{len(raw)}, \\n{raw[:501]}')"
      ],
      "execution_count": 4,
      "outputs": [
        {
          "output_type": "stream",
          "text": [
            "<class 'str'>, \n",
            "1145406, \n",
            "﻿Project Gutenberg's The Innocents Abroad, by Mark Twain (Samuel Clemens)\r\n",
            "\r\n",
            "This eBook is for the use of anyone anywhere at no cost and with\r\n",
            "almost no restrictions whatsoever.  You may copy it, give it away or\r\n",
            "re-use it under the terms of the Project Gutenberg License included\r\n",
            "with this eBook or online at www.gutenberg.org\r\n",
            "\r\n",
            "\r\n",
            "Title: The Innocents Abroad\r\n",
            "\r\n",
            "Author: Mark Twain (Samuel Clemens)\r\n",
            "\r\n",
            "Release Date: August 18, 2006 [EBook #3176]\r\n",
            "Last Updated: February 23, 2018\r\n",
            "\r\n",
            "Language: English\n"
          ],
          "name": "stdout"
        }
      ]
    },
    {
      "cell_type": "code",
      "metadata": {
        "id": "R_GlqNqCXwTX"
      },
      "source": [
        "#bring in GeoText to find place names \n",
        "places = GeoText(raw)\n",
        "cities = list(places.cities)\n",
        "cities #Calling this shows my list of cities. You could also use print(cities)"
      ],
      "execution_count": null,
      "outputs": []
    },
    {
      "cell_type": "code",
      "metadata": {
        "id": "EaqwZi5eYkh1"
      },
      "source": [
        "geolocator = Nominatim(user_agent='smithdavid529@gmail.com', timeout=2) # requires your e-mail address to track usage. Timeout set for 2 seconds.\n",
        "\n",
        "lat_lon = []\n",
        "for city in cities:\n",
        "  try:\n",
        "    location = geolocator.geocode(city)\n",
        "    if location:\n",
        "      # If you want to see only lat/lon as they process you can include the following code here but I found it added a lot of time to the operation: print(location.latitude, location.longitude)\n",
        "      lat_lon.append(location)\n",
        "  except GeocoderTimedOut as e:\n",
        "    print(\"Error: geocode failed on input %s with message %s\">\n",
        "          (city, e))\n",
        "lat_lon"
      ],
      "execution_count": null,
      "outputs": []
    },
    {
      "cell_type": "code",
      "metadata": {
        "id": "kMrBr6yibC8n"
      },
      "source": [
        "#split into data frame \n",
        "df = pd.DataFrame(lat_lon, columns=['City Name', 'Coordinates'])\n",
        "df.head(7)"
      ],
      "execution_count": null,
      "outputs": []
    },
    {
      "cell_type": "code",
      "metadata": {
        "id": "JVnQcSrkbmnn"
      },
      "source": [
        "#convert lat_long to points for mapping \n",
        "geometry = [Point(x[1], x[0]) for x in df['Coordinates']]\n",
        "geometry[:7] #test look at results "
      ],
      "execution_count": null,
      "outputs": []
    },
    {
      "cell_type": "code",
      "metadata": {
        "id": "AovtEZGIcUYO"
      },
      "source": [
        "# coordinate system we're using\n",
        "crs = {'init': 'epsg:4326'}\n",
        "\n",
        "# convert df to geo df\n",
        "geo_df = gpd.GeoDataFrame(df, crs=crs, geometry=geometry)\n",
        "geo_df.head()"
      ],
      "execution_count": null,
      "outputs": []
    },
    {
      "cell_type": "code",
      "metadata": {
        "id": "PnlPaox5cgQc"
      },
      "source": [
        "# Upload local script to Colab - running this creates a \"choose file\" button to upload local files.\n",
        "# .shp file downloaded from https://hub.arcgis.com/datasets/a21fdb46d23e4ef896f31475217cbb08_1\n",
        "from google.colab import files\n",
        "uploaded = files.upload()"
      ],
      "execution_count": null,
      "outputs": []
    },
    {
      "cell_type": "code",
      "metadata": {
        "id": "DNI1XLhOdT6e"
      },
      "source": [
        "# world map .shp file we down/uploaded\n",
        "countries_map = gpd.read_file('Countries_WGS84.shp')\n",
        "\n",
        "f, ax = plt.subplots(figsize=(16, 16))\n",
        "countries_map.plot(ax=ax, alpha=0.4, color='grey')\n",
        "geo_df['geometry'].plot(ax=ax, markersize = 30, color = 'r', marker = '^', alpha=.4)"
      ],
      "execution_count": null,
      "outputs": []
    },
    {
      "cell_type": "code",
      "metadata": {
        "id": "AuIp80uqd7Oc"
      },
      "source": [
        "#Import datavis libraries\n",
        "import matplotlib.pyplot as plt\n",
        "import seaborn as sns # used to set the style of the figures\n",
        "\n",
        "# Figures inline and set visualization style\n",
        "%matplotlib inline\n",
        "sns.set()\n",
        "\n",
        "# Create freq dist and plot\n",
        "freqdist1 = nltk.FreqDist(cities)\n",
        "freqdist1.plot(20) #running this w/out an argument plots all words! Here, we're specifying the top 20"
      ],
      "execution_count": null,
      "outputs": []
    },
    {
      "cell_type": "code",
      "metadata": {
        "id": "V-V5l7rGegtL"
      },
      "source": [
        "#import required libraries, packages, etc.\n",
        "import folium\n",
        "from folium import plugins\n",
        "import json"
      ],
      "execution_count": 13,
      "outputs": []
    },
    {
      "cell_type": "code",
      "metadata": {
        "id": "2Qxa5D5YenX9"
      },
      "source": [
        "# Converting geopandas dataframe to geojson so it can be plotted on a web map with folium.\n",
        "geo_df['geometry'].to_file(\"TwainCities.geojson\", driver='GeoJSON')\n",
        "\n",
        "# initialize the map at a global scale with a point midaway between U.S. and Europe as the center.\n",
        "TwainMap = folium.Map(location=[32.826919, -41.225228], tiles='Stamen Terrain', zoom_start=2)\n",
        "\n",
        "folium.GeoJson(\"TwainCities.geojson\").add_to(TwainMap)\n",
        "\n",
        "# Display your map   \n",
        "TwainMap"
      ],
      "execution_count": null,
      "outputs": []
    },
    {
      "cell_type": "code",
      "metadata": {
        "id": "mM9roDs8gSOS"
      },
      "source": [
        "\"\"\"\n",
        "My turn! \n",
        "David Smith \n",
        "Python 3 \n",
        "Scrape \"Antonia\" by George Sand \n",
        "\"\"\"\n"
      ],
      "execution_count": null,
      "outputs": []
    },
    {
      "cell_type": "code",
      "metadata": {
        "id": "oKvsV19UgjL5"
      },
      "source": [
        "# access sands text, and decode it into utf8 \n",
        "url = 'https://www.gutenberg.org/files/65170/65170-0.txt'\n",
        "response = request.urlopen(url)\n",
        "raw = response.read().decode('utf8')\n",
        "print(f'{type(raw)}, \\n{len(raw)}, \\n{raw[:800]}')"
      ],
      "execution_count": null,
      "outputs": []
    },
    {
      "cell_type": "code",
      "metadata": {
        "id": "wKDCQfJ5g0GH"
      },
      "source": [
        "#extract places and city names \n",
        "places = GeoText(raw)\n",
        "cities = list(places.cities)\n",
        "\n",
        "#get the place names connected to coordinates with Nominatim \n",
        "geolocator = Nominatim(user_agent='smithdavid529@gmail.com', timeout=2) # requires your e-mail address to track usage. Timeout set for 2 seconds.\n",
        "\n",
        "lat_lon = []\n",
        "for city in cities:\n",
        "  try:\n",
        "    location = geolocator.geocode(city)\n",
        "    if location:\n",
        "      # If you want to see only lat/lon as they process you can include the following code here but I found it added a lot of time to the operation: print(location.latitude, location.longitude)\n",
        "      lat_lon.append(location)\n",
        "  except GeocoderTimedOut as e:\n",
        "    print(\"Error: geocode failed on input %s with message %s\">\n",
        "          (city, e))\n",
        "lat_lon\n"
      ],
      "execution_count": null,
      "outputs": []
    },
    {
      "cell_type": "code",
      "metadata": {
        "id": "u2gCufZ1g6UD"
      },
      "source": [
        "#put city names and coordinates into a dateframe \n",
        "df = pd.DataFrame(lat_lon, columns=['City Name', 'Coordinates'])\n",
        "df.head(7)"
      ],
      "execution_count": null,
      "outputs": []
    },
    {
      "cell_type": "code",
      "metadata": {
        "id": "TRFSdTcBirUZ"
      },
      "source": [
        "# prep coordinates for plotting \n",
        "geometry = [Point(x[1], x[0]) for x in df['Coordinates']]\n",
        "\n",
        "#appened the geometry, for each location \n",
        "\n",
        "# coordinate system we're using\n",
        "crs = {'init': 'epsg:4326'}\n",
        "\n",
        "# convert df to geo df\n",
        "geo_df = gpd.GeoDataFrame(df, crs=crs, geometry=geometry)\n",
        "geo_df.head()"
      ],
      "execution_count": null,
      "outputs": []
    },
    {
      "cell_type": "code",
      "metadata": {
        "id": "vgIzMmTTjN_3"
      },
      "source": [
        "# world map .shp file we down/uploaded\n",
        "countries_map = gpd.read_file('Countries_WGS84.shp')\n",
        "\n",
        "f, ax = plt.subplots(figsize=(16, 16))\n",
        "countries_map.plot(ax=ax, alpha=0.4, color='grey')\n",
        "geo_df['geometry'].plot(ax=ax, markersize = 30, color = 'r', marker = '^', alpha=.4)"
      ],
      "execution_count": null,
      "outputs": []
    },
    {
      "cell_type": "code",
      "metadata": {
        "id": "ODHpjOgEjWLt"
      },
      "source": [
        "#Import datavis libraries\n",
        "import matplotlib.pyplot as plt\n",
        "import seaborn as sns # used to set the style of the figures\n",
        "\n",
        "# Figures inline and set visualization style\n",
        "%matplotlib inline\n",
        "sns.set()\n",
        "\n",
        "# Create freq dist and plot\n",
        "freqdist1 = nltk.FreqDist(cities)\n",
        "freqdist1.plot(20) #running this w/out an argument plots all words! Here, we're specifying the top 20"
      ],
      "execution_count": null,
      "outputs": []
    },
    {
      "cell_type": "code",
      "metadata": {
        "id": "oZBCNqm_jqkt"
      },
      "source": [
        "# Converting geopandas dataframe to geojson so it can be plotted on a web map with folium.\n",
        "geo_df['geometry'].to_file(\"SandCities.geojson\", driver='GeoJSON')\n",
        "\n",
        "# initialize the map at a global scale with a point midaway between U.S. and Europe as the center.\n",
        "SandMap = folium.Map(location=[32.826919, -41.225228], tiles='Stamen Terrain', zoom_start=2)\n",
        "\n",
        "folium.GeoJson(\"SandCities.geojson\").add_to(SandMap)\n",
        "\n",
        "# Display your map   \n",
        "SandMap"
      ],
      "execution_count": null,
      "outputs": []
    }
  ]
}